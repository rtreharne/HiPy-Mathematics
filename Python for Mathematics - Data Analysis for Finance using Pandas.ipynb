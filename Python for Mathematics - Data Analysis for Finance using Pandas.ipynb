{
 "cells": [
  {
   "cell_type": "markdown",
   "metadata": {
    "collapsed": true
   },
   "source": [
    "# Python for Mathematics - Data Analysis for Finance using Pandas"
   ]
  },
  {
   "cell_type": "markdown",
   "metadata": {},
   "source": [
    "Coding in financial services has become extremely important because of the speed at which computers can process large amounts of data. In this exercise we are going to use Python to import data from the web to find stock prices and create a simple graph of a stocks price over time. We are then going to use statistical methods to analyze the data we pulled and see what analysis we can pull from it.\n",
    "\n",
    "Before we start, we need to make sure we have pandas_datareader installed, or else we won't have any data to analyse! To do this, we can use the Anaconda Navigator. If you need help on this, here's a short video explaining how to do it:\n",
    "\n",
    "Now that's set up, it's time to start coding!\n",
    "\n",
    "First we import the modules that we need to use - we need numpy and pandas to perform statistical analysis and give us tables, matplotlib to graph our results, datetime so we can look at results in a certain timeframe, and pandas_datareader.data to get the data from Google Finance - we import this \"as\" web so that we don't have to type out pandas_datareader.data everytime we want to call a function from that module. This all sounds complicated, but we'll see how it all fits together below."
   ]
  },
  {
   "cell_type": "code",
   "execution_count": 1,
   "metadata": {
    "collapsed": false
   },
   "outputs": [],
   "source": [
    "import numpy\n",
    "import pandas\n",
    "import pandas_datareader.data as web\n",
    "import matplotlib\n",
    "import datetime"
   ]
  },
  {
   "cell_type": "markdown",
   "metadata": {},
   "source": [
    "Say we want to look at the stock price of Telsa Motors over time. To do this we use the pandas_datareader.data (remember, we called this web!) to pull the stock price of TSLA from Google Finance. The web.DataReader function will take two arguements here: \"TSLA\" to tell the function what stock to look at, and \"google\" to tell the function where to look for it."
   ]
  },
  {
   "cell_type": "code",
   "execution_count": 2,
   "metadata": {
    "collapsed": false
   },
   "outputs": [
    {
     "name": "stdout",
     "output_type": "stream",
     "text": [
      "              Open    High     Low   Close    Volume\n",
      "Date                                                \n",
      "2010-06-29   19.00   25.00   17.54   23.89  18783276\n",
      "2010-06-30   25.79   30.42   23.30   23.83  17194394\n",
      "2010-07-01   25.00   25.92   20.27   21.96   8229863\n",
      "2010-07-02   23.00   23.10   18.71   19.20   5141807\n",
      "2010-07-06   20.00   20.00   15.83   16.11   6879296\n",
      "2010-07-07   16.40   16.63   14.98   15.80   6924914\n",
      "2010-07-08   16.14   17.52   15.57   17.46   7719539\n",
      "2010-07-09   17.58   17.90   16.55   17.40   4058606\n",
      "2010-07-12   17.95   18.07   17.00   17.05   2203570\n",
      "2010-07-13   17.39   18.64   16.90   18.14   2680060\n",
      "2010-07-14   17.94   20.15   17.76   19.84   4196110\n",
      "2010-07-15   19.94   21.50   19.00   19.89   3745297\n",
      "2010-07-16   20.70   21.30   20.05   20.64   2621210\n",
      "2010-07-19   21.37   22.25   20.92   21.91   2486489\n",
      "2010-07-20   21.85   21.85   20.05   20.30   1825231\n",
      "2010-07-21   20.66   20.90   19.50   20.22   1253442\n",
      "2010-07-22   20.50   21.25   20.37   21.00    962345\n",
      "2010-07-23   21.19   21.56   21.06   21.29    654049\n",
      "2010-07-26   21.50   21.50   20.30   20.95    922453\n",
      "2010-07-27   20.91   21.18   20.26   20.55    619675\n",
      "2010-07-28   20.55   20.90   20.51   20.72    467183\n",
      "2010-07-29   20.77   20.88   20.00   20.35    615910\n",
      "2010-07-30   20.20   20.44   19.55   19.94    426830\n",
      "2010-08-02   20.50   20.97   20.33   20.92    719145\n",
      "2010-08-03   21.00   21.95   20.82   21.95   1231023\n",
      "2010-08-04   21.95   22.18   20.85   21.26    920756\n",
      "2010-08-05   21.54   21.55   20.05   20.45    796380\n",
      "2010-08-06   20.10   20.16   19.52   19.59    742138\n",
      "2010-08-09   19.90   19.98   19.45   19.60    812656\n",
      "2010-08-10   19.65   19.65   18.82   19.03   1281286\n",
      "...            ...     ...     ...     ...       ...\n",
      "2016-10-12  200.95  203.88  200.42  201.51   1970689\n",
      "2016-10-13  200.50  200.90  197.05  200.24   2495413\n",
      "2016-10-14  200.66  201.43  196.30  196.51   4269850\n",
      "2016-10-17  197.05  198.39  192.00  193.96   4554080\n",
      "2016-10-18  195.99  199.47  193.26  199.10   5680475\n",
      "2016-10-19  199.74  206.66  198.06  203.56   6991183\n",
      "2016-10-20  202.12  203.00  197.05  199.10   5072877\n",
      "2016-10-21  198.60  201.57  197.41  200.09   2943402\n",
      "2016-10-24  201.00  203.95  200.25  202.76   2751562\n",
      "2016-10-25  202.90  204.69  201.20  202.34   2445014\n",
      "2016-10-26  201.00  203.19  200.10  202.24   5632841\n",
      "2016-10-27  211.34  213.70  201.65  204.01  13093744\n",
      "2016-10-28  204.00  205.32  199.83  199.97   4280141\n",
      "2016-10-31  202.49  202.49  195.81  197.73   4692273\n",
      "2016-11-01  198.04  198.50  188.10  190.79   7060036\n",
      "2016-11-02  190.05  192.70  187.50  188.02   4253382\n",
      "2016-11-03  189.00  191.47  187.04  187.42   2653023\n",
      "2016-11-04  189.00  193.46  185.96  190.56   5146043\n",
      "2016-11-07  193.59  194.29  190.05  193.21   3870112\n",
      "2016-11-08  193.79  197.49  191.26  194.94   3267580\n",
      "2016-11-09  186.88  192.00  183.95  190.06   8173065\n",
      "2016-11-10  191.05  191.61  180.42  185.35   6750341\n",
      "2016-11-11  184.24  188.88  183.00  188.56   3988504\n",
      "2016-11-14  188.00  188.25  178.19  181.45   6552205\n",
      "2016-11-15  182.78  186.43  182.05  183.77   3902018\n",
      "2016-11-16  182.65  184.73  181.21  183.93   3434437\n",
      "2016-11-17  183.49  189.49  182.11  188.66   4887067\n",
      "2016-11-18  190.65  193.00  185.00  185.02   5210347\n",
      "2016-11-21  185.04  188.89  184.41  184.52   4361043\n",
      "2016-11-22  185.84  191.47  183.71  191.17   5603361\n",
      "\n",
      "[1614 rows x 5 columns]\n"
     ]
    }
   ],
   "source": [
    "teslaStock = web.DataReader(\"TSLA\", 'google')\n",
    "print(teslaStock)"
   ]
  },
  {
   "cell_type": "markdown",
   "metadata": {
    "collapsed": true
   },
   "source": [
    "That's a lot of data! We can trim it down to November's stock price by using the datetime module:"
   ]
  },
  {
   "cell_type": "code",
   "execution_count": 3,
   "metadata": {
    "collapsed": false
   },
   "outputs": [
    {
     "name": "stdout",
     "output_type": "stream",
     "text": [
      "              Open    High     Low   Close   Volume\n",
      "Date                                               \n",
      "2016-11-01  198.04  198.50  188.10  190.79  7060036\n",
      "2016-11-02  190.05  192.70  187.50  188.02  4253382\n",
      "2016-11-03  189.00  191.47  187.04  187.42  2653023\n",
      "2016-11-04  189.00  193.46  185.96  190.56  5146043\n",
      "2016-11-07  193.59  194.29  190.05  193.21  3870112\n",
      "2016-11-08  193.79  197.49  191.26  194.94  3267580\n",
      "2016-11-09  186.88  192.00  183.95  190.06  8173065\n",
      "2016-11-10  191.05  191.61  180.42  185.35  6750341\n",
      "2016-11-11  184.24  188.88  183.00  188.56  3988504\n",
      "2016-11-14  188.00  188.25  178.19  181.45  6552205\n",
      "2016-11-15  182.78  186.43  182.05  183.77  3902018\n",
      "2016-11-16  182.65  184.73  181.21  183.93  3434437\n",
      "2016-11-17  183.49  189.49  182.11  188.66  4887067\n",
      "2016-11-18  190.65  193.00  185.00  185.02  5210347\n",
      "2016-11-21  185.04  188.89  184.41  184.52  4361043\n",
      "2016-11-22  185.84  191.47  183.71  191.17  5603361\n"
     ]
    }
   ],
   "source": [
    "start = datetime.datetime(2016, 11, 1)\n",
    "\n",
    "end = datetime.datetime(2016, 11, 30)\n",
    "\n",
    "teslaStockNov = web.DataReader(\"TSLA\", 'google', start, end)\n",
    "print(teslaStockNov)"
   ]
  },
  {
   "cell_type": "markdown",
   "metadata": {},
   "source": [
    "Great! Now the data looks more manageable. We might not be able to get much information from these number, and it might be better to present them in a graph. To do this, we will use the matplotlib library:"
   ]
  },
  {
   "cell_type": "code",
   "execution_count": 5,
   "metadata": {
    "collapsed": false
   },
   "outputs": [
    {
     "data": {
      "image/png": "[encoded data removed]",
      "text/plain": [
       "<matplotlib.figure.Figure at 0x28df2f408d0>"
      ]
     },
     "metadata": {},
     "output_type": "display_data"
    }
   ],
   "source": [
    "teslaStock[\"Open\"].plot()\n",
    "matplotlib.pyplot.show()"
   ]
  },
  {
   "cell_type": "code",
   "execution_count": null,
   "metadata": {
    "collapsed": true
   },
   "outputs": [],
   "source": []
  }
 ],
 "metadata": {
  "anaconda-cloud": {},
  "kernelspec": {
   "display_name": "Python [default]",
   "language": "python",
   "name": "python3"
  },
  "language_info": {
   "codemirror_mode": {
    "name": "ipython",
    "version": 3
   },
   "file_extension": ".py",
   "mimetype": "text/x-python",
   "name": "python",
   "nbconvert_exporter": "python",
   "pygments_lexer": "ipython3",
   "version": "3.5.2"
  }
 },
 "nbformat": 4,
 "nbformat_minor": 1
}
